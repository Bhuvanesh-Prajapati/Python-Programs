{
 "cells": [
  {
   "cell_type": "markdown",
   "metadata": {},
   "source": [
    "# Tic Tac Toe Game"
   ]
  },
  {
   "cell_type": "markdown",
   "metadata": {},
   "source": [
    "#### Step 1: Display the Board."
   ]
  },
  {
   "cell_type": "code",
   "execution_count": 64,
   "metadata": {},
   "outputs": [],
   "source": [
    "from IPython.display import clear_output\n",
    "\n",
    "def display_board(board):\n",
    "\n",
    "    clear_output()\n",
    "    print('   |   |')\n",
    "    print(' ' + board[7] + ' | ' + board[8] + ' | ' + board[9])\n",
    "    print('   |   |')\n",
    "    print('-----------')\n",
    "    print('   |   |')\n",
    "    print(' ' + board[4] + ' | ' + board[5] + ' | ' + board[6])\n",
    "    print('   |   |')\n",
    "    print('-----------')\n",
    "    print('   |   |')\n",
    "    print(' ' + board[1] + ' | ' + board[2] + ' | ' + board[3])\n",
    "    print('   |   |')"
   ]
  },
  {
   "cell_type": "code",
   "execution_count": 65,
   "metadata": {},
   "outputs": [
    {
     "name": "stdout",
     "output_type": "stream",
     "text": [
      "   |   |\n",
      " X | O | X\n",
      "   |   |\n",
      "-----------\n",
      "   |   |\n",
      " O | X | O\n",
      "   |   |\n",
      "-----------\n",
      "   |   |\n",
      " X | O | X\n",
      "   |   |\n"
     ]
    }
   ],
   "source": [
    "test_board = ['#','X','O','X','O','X','O','X','O','X'] \n",
    "display_board(test_board)"
   ]
  },
  {
   "cell_type": "markdown",
   "metadata": {},
   "source": [
    "#### Step 2: Take Player Input."
   ]
  },
  {
   "cell_type": "code",
   "execution_count": 66,
   "metadata": {},
   "outputs": [],
   "source": [
    "def player_input():\n",
    "    \n",
    "    '''\n",
    "    OUTPUT = (Player 1 marker, Player 2 marker)\n",
    "    '''\n",
    "\n",
    "    marker = ''\n",
    "    # keep asking player 1 to choose 'X' or 'O'\n",
    "    while not (marker == 'X' or marker == 'O'):\n",
    "        marker = input(\"Player 1, Choose 'X' or 'O' to Start: \").upper()\n",
    "    # assign player 2 the opposite marker\n",
    "    if marker == 'X':\n",
    "        return ('X','O')\n",
    "    else:\n",
    "        return('O','X')\n"
   ]
  },
  {
   "cell_type": "code",
   "execution_count": 67,
   "metadata": {},
   "outputs": [
    {
     "name": "stdout",
     "output_type": "stream",
     "text": [
      "Player 1, Choose 'X' or 'O' to Start: X\n"
     ]
    }
   ],
   "source": [
    "player1_marker, player2_marker = player_input()"
   ]
  },
  {
   "cell_type": "code",
   "execution_count": 68,
   "metadata": {},
   "outputs": [
    {
     "data": {
      "text/plain": [
       "'O'"
      ]
     },
     "execution_count": 68,
     "metadata": {},
     "output_type": "execute_result"
    }
   ],
   "source": [
    "player2_marker"
   ]
  },
  {
   "cell_type": "markdown",
   "metadata": {},
   "source": [
    "#### Step 3: Assign The Input to The Board."
   ]
  },
  {
   "cell_type": "code",
   "execution_count": 69,
   "metadata": {},
   "outputs": [],
   "source": [
    "def place_marker(board, marker, position):\n",
    "    board[position] = marker"
   ]
  },
  {
   "cell_type": "code",
   "execution_count": 70,
   "metadata": {},
   "outputs": [
    {
     "name": "stdout",
     "output_type": "stream",
     "text": [
      "   |   |\n",
      " @ | O | X\n",
      "   |   |\n",
      "-----------\n",
      "   |   |\n",
      " O | X | O\n",
      "   |   |\n",
      "-----------\n",
      "   |   |\n",
      " X | O | X\n",
      "   |   |\n"
     ]
    }
   ],
   "source": [
    "place_marker(test_board,'@',7)\n",
    "display_board(test_board)"
   ]
  },
  {
   "cell_type": "markdown",
   "metadata": {},
   "source": [
    "#### Step 4: Take Board Inputs (X or O) and checks to see if the player has won."
   ]
  },
  {
   "cell_type": "code",
   "execution_count": 71,
   "metadata": {},
   "outputs": [],
   "source": [
    "def win_chk(board, mark):\n",
    "    \n",
    "    # Win tic tac toe ?\n",
    "    \n",
    "    # Check for All rows to see if they all share the same marker.\n",
    "    # Check for All columns to see if the marker matches.\n",
    "    # Check for 2 diagonals, to see the match.\n",
    "    \n",
    "    return ((board[1] == mark and board[2] == mark and board[3] == mark) or # across the upper row\n",
    "    (board[4] == board[5] == board[6] == mark) or                   # across the middle row\n",
    "    (board[7] == board[8] == board[9] == mark) or                   # across the lower row\n",
    "    (board[1] == board[4] == board[7] == mark) or                   # across the first column\n",
    "    (board[2] == board[5] == board[8] == mark) or                   # across the second column \n",
    "    (board[3] == board[6] == board[9] == mark) or                   # across the third column\n",
    "    (board[1] == board[5] == board[9] == mark) or                   # across the first diagonal\n",
    "    (board[3] == board[5] == board[7] == mark))                     # across the second diagonal\n",
    "    "
   ]
  },
  {
   "cell_type": "code",
   "execution_count": 72,
   "metadata": {},
   "outputs": [
    {
     "name": "stdout",
     "output_type": "stream",
     "text": [
      "   |   |\n",
      " @ | O | X\n",
      "   |   |\n",
      "-----------\n",
      "   |   |\n",
      " O | X | O\n",
      "   |   |\n",
      "-----------\n",
      "   |   |\n",
      " X | O | X\n",
      "   |   |\n"
     ]
    },
    {
     "data": {
      "text/plain": [
       "True"
      ]
     },
     "execution_count": 72,
     "metadata": {},
     "output_type": "execute_result"
    }
   ],
   "source": [
    "display_board(test_board)\n",
    "win_chk(test_board, 'X')"
   ]
  },
  {
   "cell_type": "markdown",
   "metadata": {},
   "source": [
    "#### Step 5: Decide which player should have the turn at first with random module."
   ]
  },
  {
   "cell_type": "code",
   "execution_count": 73,
   "metadata": {},
   "outputs": [],
   "source": [
    "import random\n",
    "\n",
    "def choose_first():\n",
    "    \n",
    "    flip = random.randint(0,1)\n",
    "    \n",
    "    if flip == 0:\n",
    "        return 'Player 1'\n",
    "    else:\n",
    "        return 'Player 2'"
   ]
  },
  {
   "cell_type": "markdown",
   "metadata": {},
   "source": [
    "#### Step 6: Check the available space on the board."
   ]
  },
  {
   "cell_type": "code",
   "execution_count": 74,
   "metadata": {},
   "outputs": [],
   "source": [
    "def space_chk(board, position):\n",
    "    \n",
    "    return board[position] == ' '\n"
   ]
  },
  {
   "cell_type": "markdown",
   "metadata": {},
   "source": [
    "#### Step 7: Check to see if the board is full, return True if full, False otherwise."
   ]
  },
  {
   "cell_type": "code",
   "execution_count": 75,
   "metadata": {},
   "outputs": [],
   "source": [
    "def full_chk(board):\n",
    "    for i in range(1,10):\n",
    "        if space_chk(board,i):\n",
    "            return False\n",
    "    return True # Means Board is full"
   ]
  },
  {
   "cell_type": "markdown",
   "metadata": {},
   "source": [
    "#### Step 8: Function to ask the next position for a player and then uses the function from 'Step 6' to check whether the space is available or not, if available then return the position. "
   ]
  },
  {
   "cell_type": "code",
   "execution_count": 76,
   "metadata": {},
   "outputs": [],
   "source": [
    "def player_choice(board):\n",
    "     \n",
    "        position = 0\n",
    "        while position not in [1,2,3,4,5,6,7,8,9] or not space_chk(board,position):\n",
    "            position = int(input('Choose a Position: (1-9)'))\n",
    "            \n",
    "        return position"
   ]
  },
  {
   "cell_type": "markdown",
   "metadata": {},
   "source": [
    "#### Step 9:  Ask if the player wants to play again, if yes, return boolean."
   ]
  },
  {
   "cell_type": "code",
   "execution_count": 77,
   "metadata": {},
   "outputs": [],
   "source": [
    "def replay():\n",
    "    \n",
    "    choice = input(\"Want to Play Again: Yes or No\")\n",
    "    return choice == 'Yes'"
   ]
  },
  {
   "cell_type": "markdown",
   "metadata": {},
   "source": [
    "#### Step 10: Use while loops and functions to run the game."
   ]
  },
  {
   "cell_type": "code",
   "execution_count": 78,
   "metadata": {},
   "outputs": [
    {
     "name": "stdout",
     "output_type": "stream",
     "text": [
      "   |   |\n",
      "   |   |  \n",
      "   |   |\n",
      "-----------\n",
      "   |   |\n",
      " X | X | X\n",
      "   |   |\n",
      "-----------\n",
      "   |   |\n",
      "   | O | O\n",
      "   |   |\n",
      "Player 1 has Won !\n",
      "Want to Play Again: Yes or Nono\n"
     ]
    }
   ],
   "source": [
    "# While loop to keep running the game\n",
    "print('Welcome to Tic Tac Toe !')\n",
    "\n",
    "while True:\n",
    "    \n",
    "    # Play the Game\n",
    "    \n",
    "    ## Set everything up (Board, who is player 1, markers 'X' or 'O')\n",
    "    the_board = [' '] * 10\n",
    "    player1_marker, player2_marker = player_input()\n",
    "    \n",
    "    turn = choose_first()\n",
    "    print(turn + ' will go first')\n",
    "    \n",
    "    play_game = input('Ready to Play ? y or n ?')\n",
    "    \n",
    "    if play_game == 'y':\n",
    "        game_on = True\n",
    "    else:\n",
    "        game_on = False\n",
    "    \n",
    "    ## GAME PLAY\n",
    "    \n",
    "    while game_on:\n",
    "        \n",
    "        ### Player 1 Turn\n",
    "        if turn  == 'Player 1':\n",
    "            # show thw board\n",
    "            display_board(the_board)\n",
    "            \n",
    "            # choose a pos.\n",
    "            pos = player_choice(the_board)\n",
    "            \n",
    "            # place the marker on th pos.\n",
    "            place_marker(the_board,player1_marker,pos)\n",
    "            \n",
    "            # check if player won\n",
    "            \n",
    "            if win_chk(the_board,player1_marker):\n",
    "                display_board(the_board)\n",
    "                print('Player 1 has Won !')\n",
    "                game_on = False\n",
    "                \n",
    "            elif full_chk(the_board):\n",
    "                display_board(the_board)\n",
    "                print(\"Tie !\")\n",
    "                game_on = False\n",
    "                \n",
    "            else:\n",
    "                turn = 'Player 2'\n",
    "                \n",
    "        ### Player 2 Turn\n",
    "        else:\n",
    "            # show thw board\n",
    "            display_board(the_board)\n",
    "            \n",
    "            # choose a pos.\n",
    "            pos = player_choice(the_board)\n",
    "            \n",
    "            # place the marker on th pos.\n",
    "            place_marker(the_board,player2_marker,pos)\n",
    "            \n",
    "            # check if player won\n",
    "            \n",
    "            if win_chk(the_board,player2_marker):\n",
    "                display_board(the_board)\n",
    "                print('Player 2 has Won !')\n",
    "                game_on = False\n",
    "                \n",
    "            elif full_chk(the_board):\n",
    "                display_board(the_board)\n",
    "                print(\"Tie !\")\n",
    "                game_on = False\n",
    "                \n",
    "            else:\n",
    "                turn = 'Player 1'\n",
    "                \n",
    "    # Break out of the while loop on replay()\n",
    "    if not replay():\n",
    "        break\n"
   ]
  },
  {
   "cell_type": "code",
   "execution_count": 1,
   "metadata": {},
   "outputs": [
    {
     "data": {
      "text/plain": [
       "'C:\\\\Users\\\\Bhuvi'"
      ]
     },
     "execution_count": 1,
     "metadata": {},
     "output_type": "execute_result"
    }
   ],
   "source": [
    "pwd"
   ]
  },
  {
   "cell_type": "code",
   "execution_count": null,
   "metadata": {},
   "outputs": [],
   "source": []
  }
 ],
 "metadata": {
  "kernelspec": {
   "display_name": "Python 3",
   "language": "python",
   "name": "python3"
  },
  "language_info": {
   "codemirror_mode": {
    "name": "ipython",
    "version": 3
   },
   "file_extension": ".py",
   "mimetype": "text/x-python",
   "name": "python",
   "nbconvert_exporter": "python",
   "pygments_lexer": "ipython3",
   "version": "3.6.5"
  }
 },
 "nbformat": 4,
 "nbformat_minor": 2
}
